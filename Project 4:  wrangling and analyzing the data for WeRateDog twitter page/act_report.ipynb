{
 "cells": [
  {
   "cell_type": "markdown",
   "metadata": {},
   "source": [
    "# The most favorable dog name "
   ]
  },
  {
   "cell_type": "markdown",
   "metadata": {},
   "source": [
    "<br>\n",
    "\n",
    "Through this preif intro we will be seeing which dog name has been usaed through our data set \n",
    "First lets import all the nesssarey libraries\n"
   ]
  },
  {
   "cell_type": "code",
   "execution_count": 2,
   "metadata": {},
   "outputs": [],
   "source": [
    "import pandas as pd\n",
    "import matplotlib.pyplot as plt"
   ]
  },
  {
   "cell_type": "code",
   "execution_count": 5,
   "metadata": {},
   "outputs": [],
   "source": [
    "#loading twitter-archive-enhanced.csv into data frame\n",
    "df_twitter_enhanced= pd.read_csv('twitter-archive-enhanced.csv')"
   ]
  },
  {
   "cell_type": "code",
   "execution_count": 8,
   "metadata": {},
   "outputs": [
    {
     "data": {
      "text/plain": [
       "None         745\n",
       "a             55\n",
       "Charlie       12\n",
       "Oliver        11\n",
       "Cooper        11\n",
       "Lucy          11\n",
       "Penny         10\n",
       "Tucker        10\n",
       "Lola          10\n",
       "Winston        9\n",
       "Bo             9\n",
       "Sadie          8\n",
       "the            8\n",
       "an             7\n",
       "Buddy          7\n",
       "Toby           7\n",
       "Bailey         7\n",
       "Daisy          7\n",
       "Dave           6\n",
       "Scout          6\n",
       "Jax            6\n",
       "Bella          6\n",
       "Koda           6\n",
       "Leo            6\n",
       "Stanley        6\n",
       "Milo           6\n",
       "Oscar          6\n",
       "Rusty          6\n",
       "Jack           6\n",
       "Alfie          5\n",
       "            ... \n",
       "Willie         1\n",
       "Rumpole        1\n",
       "Monkey         1\n",
       "Swagger        1\n",
       "Clybe          1\n",
       "Karll          1\n",
       "Tino           1\n",
       "Jett           1\n",
       "Jim            1\n",
       "Fynn           1\n",
       "Bobble         1\n",
       "Dutch          1\n",
       "Tom            1\n",
       "Milky          1\n",
       "Luther         1\n",
       "Acro           1\n",
       "Flurpson       1\n",
       "Freddery       1\n",
       "Napolean       1\n",
       "Beemo          1\n",
       "Cupid          1\n",
       "Tanner         1\n",
       "Bloo           1\n",
       "Glenn          1\n",
       "Stu            1\n",
       "Shnuggles      1\n",
       "Skittle        1\n",
       "Joey           1\n",
       "Mitch          1\n",
       "Murphy         1\n",
       "Name: name, Length: 957, dtype: int64"
      ]
     },
     "execution_count": 8,
     "metadata": {},
     "output_type": "execute_result"
    }
   ],
   "source": [
    "#let's check about unuique vlaues number in name column \n",
    "df_twitter_enhanced.name.value_counts()"
   ]
  },
  {
   "cell_type": "code",
   "execution_count": 9,
   "metadata": {},
   "outputs": [],
   "source": [
    "#replaceing to none \n",
    "\n",
    "df_twitter_enhanced['name'].replace('a','None', inplace = True)\n",
    "df_twitter_enhanced['name'].replace('an','None', inplace = True)"
   ]
  },
  {
   "cell_type": "code",
   "execution_count": 11,
   "metadata": {},
   "outputs": [
    {
     "data": {
      "text/plain": [
       "None        807\n",
       "Charlie      12\n",
       "Cooper       11\n",
       "Oliver       11\n",
       "Lucy         11\n",
       "Tucker       10\n",
       "Lola         10\n",
       "Penny        10\n",
       "Winston       9\n",
       "Bo            9\n",
       "Sadie         8\n",
       "the           8\n",
       "Buddy         7\n",
       "Toby          7\n",
       "Bailey        7\n",
       "Daisy         7\n",
       "Jack          6\n",
       "Leo           6\n",
       "Rusty         6\n",
       "Bella         6\n",
       "Koda          6\n",
       "Milo          6\n",
       "Scout         6\n",
       "Stanley       6\n",
       "Oscar         6\n",
       "Dave          6\n",
       "Jax           6\n",
       "Alfie         5\n",
       "Oakley        5\n",
       "Sammy         5\n",
       "           ... \n",
       "Ronnie        1\n",
       "Barney        1\n",
       "Karl          1\n",
       "Crumpet       1\n",
       "Bodie         1\n",
       "Grizz         1\n",
       "Sweets        1\n",
       "Hector        1\n",
       "William       1\n",
       "Storkson      1\n",
       "Sailor        1\n",
       "Chadrick      1\n",
       "Andy          1\n",
       "Brandy        1\n",
       "Nugget        1\n",
       "Mabel         1\n",
       "Akumi         1\n",
       "Kendall       1\n",
       "Combo         1\n",
       "Gunner        1\n",
       "Carter        1\n",
       "Malikai       1\n",
       "Sage          1\n",
       "Rover         1\n",
       "Lilah         1\n",
       "Dallas        1\n",
       "Izzy          1\n",
       "Pancake       1\n",
       "Ralph         1\n",
       "Murphy        1\n",
       "Name: name, Length: 955, dtype: int64"
      ]
     },
     "execution_count": 11,
     "metadata": {},
     "output_type": "execute_result"
    }
   ],
   "source": [
    "#Testing our code \n",
    "\n",
    "df_twitter_enhanced.name.value_counts()"
   ]
  },
  {
   "cell_type": "code",
   "execution_count": 12,
   "metadata": {
    "scrolled": true
   },
   "outputs": [
    {
     "data": {
      "text/plain": [
       "Text(0,0.5,'number of dogs')"
      ]
     },
     "execution_count": 12,
     "metadata": {},
     "output_type": "execute_result"
    },
    {
     "data": {
      "image/png": "[encoded data removed]",
      "text/plain": [
       "<matplotlib.figure.Figure at 0x7fa4e7a87a20>"
      ]
     },
     "metadata": {
      "needs_background": "light"
     },
     "output_type": "display_data"
    }
   ],
   "source": [
    "#let's first check the number of each name through our data base \n",
    "\n",
    "Topten = df_twitter_enhanced.name.value_counts()[1:10]\n",
    "\n",
    "Topten.plot(kind = 'bar')\n",
    "plt.title('Topten dog names')\n",
    "plt.xlabel('Dog name')\n",
    "plt.ylabel('number of dogs')\n"
   ]
  },
  {
   "cell_type": "markdown",
   "metadata": {},
   "source": [
    "### Conclusion\n",
    ">Through our analysis we see that the most favorable name would be charlie\n",
    ">Also we conclude that if there will be any new retweet the name of the dog will be most likely one of the above top ten"
   ]
  }
 ],
 "metadata": {
  "kernelspec": {
   "display_name": "Python 3",
   "language": "python",
   "name": "python3"
  },
  "language_info": {
   "codemirror_mode": {
    "name": "ipython",
    "version": 3
   },
   "file_extension": ".py",
   "mimetype": "text/x-python",
   "name": "python",
   "nbconvert_exporter": "python",
   "pygments_lexer": "ipython3",
   "version": "3.6.3"
  }
 },
 "nbformat": 4,
 "nbformat_minor": 2
}
